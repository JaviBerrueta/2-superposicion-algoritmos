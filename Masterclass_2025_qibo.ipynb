{
 "cells": [
  {
   "cell_type": "markdown",
   "metadata": {},
   "source": [
    "<img align=\"center\" src=\"https://quantumspain-project.es/wp-content/uploads/2022/11/Logo_QS_EspanaDigital.png\" width=\"800px\"/>\n",
    "<figure>\n",
    "<a id='fig_ref'></a>\n",
    "<img src=\"./Images/Logo_TalentQ_Azul.png\" align=center width='200px'/>\n",
    "</figure>\n",
    "<br>\n",
    "<br>\n",
    "\n",
    "\n",
    "\n",
    "<table width=\"100%\"><td style=\" font_style:italic; font-size:50px;text-align:center;background-color:rgba(0, 220, 170,0.7)\">\n",
    "<div>\n",
    "Superposición, Paralelismo, Interferencia\n",
    "</div>\n",
    "</td></table>\n",
    "\n",
    "\n",
    "<figure style=\"text-align: center;\">\n",
    "    <img src=\"./images/interferencia.png\" align=\"center\" width=\"50%\" style=\"margin: auto;\"/>\n",
    "</figure>\n",
    "\n",
    "\n",
    "Autores:\n",
    "\n",
    "\n",
    "* Javier Mas (IGFAE-USC)\n",
    "* Carlos Luque (IAC)\n",
    "* Javier Vizoso (CESGA)\n",
    "* Iráis Bautista (CESGA)\n",
    "* Nahia Iriarte (NASERTIC)\n",
    "* Javier Berrueta (NASERTIC)\n",
    "\n",
    "\n",
    "<a rel=\"license\" href=\"http://creativecommons.org/licenses/by-sa/4.0/\"><img aling=\"left\" alt=\"Licencia Creative Commons\" style=\"border-width:0\" src=\"https://i.creativecommons.org/l/by-sa/4.0/88x31.png\" /></a><br />Licencia: <a rel=\"license\" href=\"http://creativecommons.org/licenses/by-sa/4.0/\">Licencia Creative Commons Atribución-CompartirIgual 4.0 Internacional</a>.\n",
    "\n",
    "$ \\renewcommand{\\bra}[1]{\\langle #1|} $\n",
    "$ \\renewcommand{\\ket}[1]{|#1\\rangle} $\n",
    "$ \\renewcommand{\\braket}[2]{\\langle #1|#2\\rangle} $\n",
    "\n",
    "\n",
    "Repositorio de Github: https://github.com/talentQ-es/Masterclass_2025"
   ]
  },
  {
   "cell_type": "code",
   "execution_count": 1,
   "metadata": {},
   "outputs": [
    {
     "name": "stderr",
     "output_type": "stream",
     "text": [
      "[Qibo 0.2.17|INFO|2025-10-17 13:10:21]: Using numpy backend on /CPU:0\n"
     ]
    }
   ],
   "source": [
    "%run macro.py"
   ]
  },
  {
   "cell_type": "markdown",
   "metadata": {},
   "source": [
    "En este cuaderno vamos a experimentar con dos recursos que ofrece la mecánica cuántica y que se utilizan para obtener ventaja computacional. \n",
    "\n",
    "- La **superposición**. Un estado general de un sistema cuántico es una *superposición lineal* de todos los asociados a los posibles resultados que pueden aparecer  al medir. \n",
    "<br>\n",
    "\n",
    "- La **interferencia**. Los coeficientes de la superposición pueden anularse (interferencia destructiva)  en una secuencia de procesos sucesivos. "
   ]
  },
  {
   "cell_type": "markdown",
   "metadata": {},
   "source": [
    "#  Superposición\n",
    "\n",
    "<div class=\"alert alert-block alert-info\">\n",
    "\n",
    "- El estado de un **bit** sólo puede ser 0 ó 1. \n",
    "<br>\n",
    "    \n",
    "- El estado de un **cúbit** puede ser una <i>superposición</i> lineal $a \\ket{0} + b \\ket{1}$ con $|a|^2 + |b|^2 = 1$\n",
    "<br>\n",
    "    \n",
    "    - Los estados $\\ket{0}$ y $\\ket{1}$ forman una *base*\n",
    "    \n",
    "    - Los coficientes  $a$ y $b$ son  *amplitudes* de probabilidad. En general son números complejos.\n",
    "\n",
    "    - Los números reales y positivos $|a|^2$ y $|b|^2$ son las *probabilidades* de que, al medir, obtengamos 0 ó 1 y (el estado colapse a $\\ket{0}$ ó $\\ket{1}$).\n",
    "\n",
    "</div>\n"
   ]
  },
  {
   "cell_type": "markdown",
   "metadata": {},
   "source": [
    "## Circuito cuántico\n"
   ]
  },
  {
   "cell_type": "markdown",
   "metadata": {},
   "source": [
    "El estado <b>inicial</b> en un circuito cuántico es siempre $\\ket{\\psi} = \\ket{0}$, cuya medida dará siempre el valor cierto 0 \n",
    "    \n",
    "- A partir de él, podemos *preparar* un estado arbitrario aplicando **puertas cuánticas**\n",
    "    \n",
    "$$\n",
    "\\ket{0} ~~~\\stackrel{\\hbox{puertas}}{\\longrightarrow}~~~ \\ket{\\psi} = a \\ket{0} + b \\ket{1} ~~~~~\\hbox{con}~~ |a|^2 + |b|^2 = 1\n",
    "$$\n",
    "<br>\n",
    "\n",
    "- Cada vez que **medimos**, el estado *colapsa* a $\\ket{0}$ ó a $\\ket{1}$\n",
    "$$\n",
    "\\ket{\\psi} = a \\ket{0} + b \\ket{1} ~~~\\stackrel{\\hbox{medidas}}{\\longrightarrow}~~~\n",
    "\\left\\{ \\begin{array}{cc}\\hbox{mide} & \\hbox{sale} \\\\  0 & \\ket{0} \\\\   1 &   \\ket{1} \\end{array} \\right.\n",
    "$$\n",
    "<br>\n",
    "\n",
    "\n",
    "- Podemos tener acceso a las probabilidades $|a|^2$ y $|b|^2$ midiendo $N$ veces y hallando las <b>frecuencias relativas</b> con las que aparecen 0 y 1\n",
    "\n",
    "\n",
    "$$\n",
    "|a|^2 = \\frac{n(0)}{N} ~~~~~~,~~~~~~~ |b|^2 = \\frac{n(1)}{N}\n",
    "$$\n",
    "    \n",
    "    \n"
   ]
  },
  {
   "cell_type": "markdown",
   "metadata": {},
   "source": [
    "## Circuitos de 1 cúbit\n",
    "\n",
    "- La puerta $X$ es el análogo cuántico de la puerta clásica NOT\n",
    "\n",
    "$$\n",
    "X \\ket{0} = \\ket{1} ~~~~~~~~~~X \\ket{1} = \\ket{0}\n",
    "$$\n",
    "\n",
    "- La puerta $Z$ cambia el signo a $\\ket{1}$\n",
    "$$\n",
    "Z \\ket{0} = \\ket{0}~~~~~~~~~~Z\\ket{1} = -\\ket{1}~~~\n",
    "$$\n",
    "<br>\n",
    "No tiene análogo clásico, ya que no existe un bit que  tome el valor  -1\n",
    "<br>\n",
    "<br>\n",
    "\n",
    "- La puerta $H$ (o de *Hadamard*) crea un estado superposición\n",
    "<br>\n",
    "$$\n",
    "H \\ket{0} =\\frac{1}{\\sqrt{2}} \\big( \\ket{0} + \\ket{1}\\big) ~~~~~~~H\\ket{1} =\\frac{1}{\\sqrt{2}} \\big( \\ket{0} - \\ket{1}\\big)\n",
    "$$\n",
    "<br>\n",
    "que tampoco tiene análogo clásico\n"
   ]
  },
  {
   "cell_type": "code",
   "execution_count": 2,
   "metadata": {},
   "outputs": [
    {
     "data": {
      "text/plain": [
       "(<Axes: >, <Figure size 60x60 with 1 Axes>)"
      ]
     },
     "execution_count": 2,
     "metadata": {},
     "output_type": "execute_result"
    },
    {
     "data": {
      "image/png": "[encoded data removed]",
      "text/plain": [
       "<Figure size 60x60 with 1 Axes>"
      ]
     },
     "metadata": {},
     "output_type": "display_data"
    }
   ],
   "source": [
    "# Creamos un circuito cuántico de nqubit cúbits\n",
    "nqubits = 1\n",
    "qc = Circuit(nqubits)\n",
    "\n",
    "# puedes descomentar o comentar líneas para añadir o quitar puertas al circuito\n",
    "#qc.add(gates.X(0))\n",
    "qc.add(gates.H(0))\n",
    "#qc.add(gates.Y(0))\n",
    "\n",
    "\n",
    "# visualizamos el circuito\n",
    "qsplot_circuit(qc)"
   ]
  },
  {
   "cell_type": "markdown",
   "metadata": {},
   "source": [
    "<u>Podemos analizar el estado resultante $\\ket{\\psi}$  de **tres manera distintas**:</u> \n",
    "\n",
    "- escribiendo el vector resultante en la base $\\ket{\\psi} = a\\ket{0} +  b\\ket{1}$"
   ]
  },
  {
   "cell_type": "code",
   "execution_count": 3,
   "metadata": {},
   "outputs": [
    {
     "data": {
      "text/latex": [
       "$$\\frac{\\sqrt{2}}{2} |0\\rangle+\\frac{\\sqrt{2}}{2} |1\\rangle$$"
      ],
      "text/plain": [
       "<IPython.core.display.Latex object>"
      ]
     },
     "execution_count": 3,
     "metadata": {},
     "output_type": "execute_result"
    }
   ],
   "source": [
    "draw_state_Latex(qc)"
   ]
  },
  {
   "cell_type": "markdown",
   "metadata": {},
   "source": [
    "- Visualizándolo como un vector en la esfera de Bloch"
   ]
  },
  {
   "cell_type": "code",
   "execution_count": 4,
   "metadata": {},
   "outputs": [
    {
     "data": {
      "image/png": "[encoded data removed]",
      "text/plain": [
       "<Figure size 480x480 with 1 Axes>"
      ]
     },
     "execution_count": 4,
     "metadata": {},
     "output_type": "execute_result"
    }
   ],
   "source": [
    "draw_state_Bloch(qc)"
   ]
  },
  {
   "cell_type": "markdown",
   "metadata": {},
   "source": [
    "- Analizando la estadística de las medidas para recuperar los números $|a|^2$ y $|b|^2$"
   ]
  },
  {
   "cell_type": "code",
   "execution_count": null,
   "metadata": {},
   "outputs": [],
   "source": [
    "# Añadimos una puerta de medida a una copia del circuito\n",
    "qcm = qc.copy()\n",
    "qcm.add(gates.M(0))\n",
    "\n",
    "# visualizamos el circuito\n",
    "qsplot_circuit(qcm)"
   ]
  },
  {
   "cell_type": "markdown",
   "metadata": {},
   "source": [
    "Las **cuentas** se almacenan en un diccionario $\\{ \\hbox{`medida'} : \\hbox{cuentas} \\}$\n",
    "\n"
   ]
  },
  {
   "cell_type": "code",
   "execution_count": null,
   "metadata": {},
   "outputs": [],
   "source": [
    "# Ejectuamos un numero de veces \n",
    "Nejecuciones = 1000\n",
    "results = qcm.execute(nshots=Nejecuciones)\n",
    "\n",
    "#y guardamos los resultados de las medidas\n",
    "cuentas = results.frequencies()\n",
    "print(\"Cuentas: \", cuentas)"
   ]
  },
  {
   "cell_type": "markdown",
   "metadata": {},
   "source": [
    "Los histogramas permiten visualizar las frecuencias de aparición"
   ]
  },
  {
   "cell_type": "code",
   "execution_count": null,
   "metadata": {},
   "outputs": [],
   "source": [
    "plot_histogram(cuentas)"
   ]
  },
  {
   "cell_type": "markdown",
   "metadata": {},
   "source": [
    "Las frecuencias relativas tienden a las probabilidades de cada resultado en el límite de Nejecuciones grande\n",
    "\n",
    "$$p(0) = |a|^2 = \\frac{n(0)}{N} ~~~~~~~\\hbox{y} ~~~~~~~~~ p(1) = |b|^2 = \\frac{n(1)}{N}$$"
   ]
  },
  {
   "cell_type": "code",
   "execution_count": null,
   "metadata": {},
   "outputs": [],
   "source": [
    "def probabilidades(cuentas, N):\n",
    "    return {k: np.round(v/N, 3) for k, v in cuentas.items()}\n",
    "\n",
    "probabilidades(cuentas,Nejecuciones) "
   ]
  },
  {
   "cell_type": "markdown",
   "metadata": {},
   "source": [
    "<div class=\"alert alert-block alert-success\">\n",
    "\n",
    "<b>¡A jugar!</b>:   \n",
    "- Modifica el circuito añadiendo puertas y obtén nuevos estados  \n",
    "\n",
    "- Obten las frecuencias relativa y recupera los valores de $|a|^2$ y $|b|^2$.  Comprueba que siempre suman a 1.     \n",
    "\n",
    "- Aumenta el parámetro *Nejecuciones* y comprueba cómo las frecuencias relativas tienden a las probabilidades. \n",
    "</div>"
   ]
  },
  {
   "cell_type": "markdown",
   "metadata": {},
   "source": [
    "\n",
    "## Circuitos de varios cúbits \n",
    "\n",
    "- Pensemos en 2 cúbits, cada uno de los cuales está en un estado arbitrario. \n",
    "\n",
    "El estado **conjunto** se describe mediante el producto *(tensorial)* de ambos estados individuales\n",
    "<br>\n",
    "$$\n",
    "\\ket{\\psi} = \\big(a_1 \\ket{0} + b_1\\ket{1}\\big)\\otimes \\big( a_2\\ket{0} + b_2\\ket{1}\\big) = \n",
    "a_1a_2 \\ket{00} + a_1 b_2 \\ket{01} +  b_1 a_2\\ket{10} + b_1 b_2 \\ket{11}\n",
    "$$\n",
    "<br>\n",
    "\n",
    "Decimos que los estados $\\{ \\ket{00},\\ket{01},\\ket{10},\\ket{11} \\}$ forman una **base** del espacio de dos cúbits.\n",
    "<br>\n",
    "<br>\n",
    "\n",
    "- Al medir ambos cúbits obtendremos    \n",
    "$$\n",
    "\\begin{array}{ccc}\n",
    "\\hbox{resultados} & \\hbox{con probabilidad} & \\hbox{y el estado colapsa a} \\\\\n",
    "00 & |a_1a_2|^2 & \\ket{00} \\\\\n",
    "01 & |a_1b_2|^2 & \\ket{01}\\\\\n",
    "10 & |b_1 a_2|^2 & \\ket{10}\\\\\n",
    "11 & |b_1 b_2 |^2 & \\ket{11}\\\\\n",
    "\\end{array}\n",
    "$$\n",
    "<br>\n"
   ]
  },
  {
   "cell_type": "markdown",
   "metadata": {},
   "source": [
    "Partiendo de $\\ket{00}$, vamos a generar estados $\\ket{\\psi}$ posibles mediante puertas de 1 cúbit insertadas en cada registro del circuito"
   ]
  },
  {
   "cell_type": "code",
   "execution_count": null,
   "metadata": {},
   "outputs": [],
   "source": [
    "nqubits = 2\n",
    "\n",
    "#generamos el circuito con las puertas que queramos\n",
    "qc2 = Circuit(nqubits)\n",
    "\n",
    "# comenta o descomenta las puertas que quieras añadir al circuito\n",
    "#qc2.add(gates.X(0))\n",
    "#qc2.add(gates.X(1))\n",
    "qc2.add(gates.H(0))\n",
    "qc2.add(gates.H(1))\n",
    "\n",
    "#visualizamos el circuito\n",
    "qsplot_circuit(qc2)"
   ]
  },
  {
   "cell_type": "markdown",
   "metadata": {},
   "source": [
    "De nuevo visualizamos el resultado de <u>tres formas distintas</u>\n",
    "\n",
    "- **Algebraicamente**: como *superposición* de los estados posibles al medir"
   ]
  },
  {
   "cell_type": "code",
   "execution_count": null,
   "metadata": {},
   "outputs": [],
   "source": [
    "draw_state_Latex(qc2)"
   ]
  },
  {
   "cell_type": "markdown",
   "metadata": {},
   "source": [
    "- **Gráficamente**: sobre la esfera de Bloch"
   ]
  },
  {
   "cell_type": "code",
   "execution_count": null,
   "metadata": {},
   "outputs": [],
   "source": [
    "draw_state_Bloch(qc2)"
   ]
  },
  {
   "cell_type": "markdown",
   "metadata": {},
   "source": [
    "- **Estadísticamente**: haciendo medidas para recuperar los valores $|a_1a_2|^2 , |a_1b_2|^2  ,|b_1a_2|^2  ,|b_1b_2|^2$\n",
    "\n"
   ]
  },
  {
   "cell_type": "code",
   "execution_count": null,
   "metadata": {},
   "outputs": [],
   "source": [
    "# Copiamos el circuito y añadimos  puertas de medida a todos los cúbits\n",
    "qc2m = qc2.copy()\n",
    "qc2m.add(gates.M(*range(nqubits)))\n",
    "\n",
    "#visualizamos el circuito\n",
    "qsplot_circuit(qc2m)"
   ]
  },
  {
   "cell_type": "code",
   "execution_count": null,
   "metadata": {},
   "outputs": [],
   "source": [
    "#ejecutamos un numero de veces y guardamos los resultados de las medidas\n",
    "Nejecuciones = 10000\n",
    "result2 = qc2m.execute(nshots=Nejecuciones)\n",
    "\n",
    "cuentas2 = result2.frequencies()\n",
    "print(\"Medidas = \",cuentas2)\n",
    "\n",
    "# graficamos en un histograma\n",
    "plot_histogram(cuentas2)"
   ]
  },
  {
   "cell_type": "markdown",
   "metadata": {},
   "source": [
    "Escribimos las probabilidades"
   ]
  },
  {
   "cell_type": "code",
   "execution_count": null,
   "metadata": {},
   "outputs": [],
   "source": [
    "print('Probabilidades = ', probabilidades(cuentas2,Nejecuciones) )"
   ]
  },
  {
   "cell_type": "markdown",
   "metadata": {},
   "source": [
    "<div class=\"alert alert-block alert-success\">\n",
    "<b>Juega:</b> \n",
    "\n",
    "modifica el circuito cambiando las puertas y obtén las nuevas probabilidades\n",
    "</div>"
   ]
  },
  {
   "cell_type": "markdown",
   "metadata": {},
   "source": [
    "# Paralelismo"
   ]
  },
  {
   "cell_type": "markdown",
   "metadata": {},
   "source": [
    "En la sección anterior hemos puesto $n=2$. Ahora podemos volver y aumentar este valor a voluntad. \n",
    "\n",
    "<u>Vamos a fijarnos en un **circuito concreto**</u>, en el que aplicamos la puerta $H$ a cada uno de los cúbits en el estado $\\ket{0}$"
   ]
  },
  {
   "cell_type": "code",
   "execution_count": null,
   "metadata": {},
   "outputs": [],
   "source": [
    "nqubits = 3\n",
    "# creamos el circuito cuántico\n",
    "qc3 = Circuit(nqubits)\n",
    "\n",
    "# aplicamos H a todos los cúbits\n",
    "for i in range(nqubits):\n",
    "    qc3.add(gates.H(i))\n",
    "\n",
    "#visualizamos el circuito\n",
    "qsplot_circuit(qc3)"
   ]
  },
  {
   "cell_type": "markdown",
   "metadata": {},
   "source": [
    "Observemos el estado $\\ket{\\psi}$ que crea este circuito"
   ]
  },
  {
   "cell_type": "code",
   "execution_count": null,
   "metadata": {},
   "outputs": [],
   "source": [
    "draw_state_Latex(qc3)"
   ]
  },
  {
   "cell_type": "markdown",
   "metadata": {},
   "source": [
    "obtenemos las probabilidades y vemos que son iguales para todos los estados"
   ]
  },
  {
   "cell_type": "code",
   "execution_count": null,
   "metadata": {},
   "outputs": [],
   "source": [
    "# Añadimos puertas de medida a todos los cúbits en una copia del circuito\n",
    "qc3m = qc3.copy()\n",
    "qc3m.add(gates.M(*range(nqubits)))\n",
    "\n",
    "# graficamos el circuito\n",
    "qsplot_circuit(qc3m)"
   ]
  },
  {
   "cell_type": "code",
   "execution_count": null,
   "metadata": {},
   "outputs": [],
   "source": [
    "# ejecutamos un numero de veces\n",
    "Nejecuciones = 10000 \n",
    "cuentas3 = qc3m.execute(nshots=Nejecuciones).frequencies()\n",
    "print(\"Cuentas= \",cuentas3)\n",
    "\n",
    "# graficamos en un histograma\n",
    "plot_histogram(cuentas3)"
   ]
  },
  {
   "cell_type": "code",
   "execution_count": null,
   "metadata": {},
   "outputs": [],
   "source": [
    "probabilidades(cuentas3,Nejecuciones) "
   ]
  },
  {
   "cell_type": "markdown",
   "metadata": {},
   "source": [
    "<div class=\"alert alert-block alert-success\">\n",
    "\n",
    "<b>Ejercicio:</b> repite las celdas anteriores, subiendo el valor de $nqubits$.\n",
    "</div>"
   ]
  },
  {
   "cell_type": "markdown",
   "metadata": {},
   "source": [
    "<div class=\"alert alert-block alert-danger\">\n",
    "<b>Observa:</b> \n",
    "\n",
    "El estado $H^n \\ket{0}_n$ es muy importante en computación cuántica. Consiste en una *superposición uniforme* de **todos los estados de la base** \n",
    "\n",
    "\n",
    "</div>"
   ]
  },
  {
   "cell_type": "markdown",
   "metadata": {},
   "source": [
    "<div class=\"alert alert-block alert-warning\">\n",
    "<b> Notación </b>  \n",
    "<br>\n",
    "\n",
    "Un número entero $x$ lo expresaremos de forma indistinta como un número decimal $x \\in \\mathbb{N}$, o como una n-tupla $ x \\in \\{ 0,1\\}^n$ que se obtiene completando con 0's el número $x$ escrito en base 2\n",
    "\n",
    "*Ejemplo*: con $n=4$, podemos escribir de forma indistinta $x = 7$ ó $x = 0111$. De este modo el vector $\\ket{0111} $   de la base de $n=4$ cúbits puede respresentarse como $\\ket{7}$.  \n",
    "</div>"
   ]
  },
  {
   "cell_type": "code",
   "execution_count": null,
   "metadata": {},
   "outputs": [],
   "source": [
    "n=4\n",
    "x=7\n",
    "xn = format(x, '0' + str(n) + 'b')\n",
    "print(' |' + xn + ' > = |' + str(x) + ' >')"
   ]
  },
  {
   "cell_type": "markdown",
   "metadata": {},
   "source": [
    "Con esta notación podemos escribir el efecto de $H^n$ así\n",
    "\n",
    "\\begin{align}\n",
    "H^n \\ket{000} =  H\\ket{0}H\\ket{0}\\, ...\\, H\\ket{0} &=\\frac{1}{\\sqrt{2}}(\\ket{0} + \\ket{1})\\frac{1}{\\sqrt{2}}(\\ket{0} + \\ket{1})\\, ...\\, \\frac{1}{\\sqrt{2}}(\\ket{0} + \\ket{1}) \n",
    "\\nonumber \\\\\n",
    " &= \\frac{1}{\\sqrt{2}^3}\\left(\n",
    "    \\ket{00...0} + \\ket{00...1} + ... + \\ket{11...0}+ \\ket{11...1}\\right) \\nonumber\\\\\n",
    "&= \\frac{1}{\\sqrt{2}^3}\\left(\n",
    "    \\ket{0} + \\ket{1} + \\ket{2} + ... + \\ket{2^n-1}\\right)\n",
    "\\end{align}"
   ]
  },
  {
   "cell_type": "markdown",
   "metadata": {},
   "source": [
    "- En un *computador clásico*, la operación anterior requeriría \n",
    "\n",
    "    -   disponer de $2^n$ **registros** de 64 bits de memoria vacíos (en el estado 00..0)\n",
    "\n",
    "    -  modificar **sucesivamente** todos estos registros hasta poner todos ellos a valer $1/\\sqrt{2}^{n}$ .\n",
    "\n",
    "El coste en <u>espacio</u> y en <u>tiempo</u> de esta operación crece **exponencialmente** con $n$.\n",
    "\n",
    "\n",
    "- En un *computador cuántico* los dos requisitos son satisfechos fácilmente \n",
    "\n",
    "    - el estado de $n$ cúbits alberga de forma natural $2^n$ **amplitudes** no nulas  \n",
    "\n",
    "    - el proceso de cambiar todas las $2^n$ amplitudes se realiza **en un sólo paso** (paralelismo cuántico)."
   ]
  },
  {
   "cell_type": "markdown",
   "metadata": {},
   "source": [
    "# Interferencia\n",
    "\n",
    "<div class=\"alert alert-block alert-info\">\n",
    "\n",
    "Las <b>probabilidades</b> $|a|^2$ y $|b|^2$ son siempre números positivos. Por tanto, es **imposible** que una suma de probabilidades se anule.\n",
    "\n",
    "Las **amplitudes de probabilidad**, $a$ y $b$ son números reales, o incluso complejos. Por tanto, es **posible** conseguir que un resultado tenga  tenga una probabilidad nula, $a + b = 0$, a pesar de que todas las amplitudes que contribuyen no sean nulas. Este es el fenómeno de la interferencia. \n",
    "</div>\n",
    "\n",
    "\n",
    "\n",
    "\n"
   ]
  },
  {
   "cell_type": "markdown",
   "metadata": {},
   "source": [
    "## La moneda cuántica\n",
    "\n",
    "Un cúbit es un análogo cuántico de una moneda. Cuando lo medimos, el resultado es siempre $\\ket{0} \\sim \\hbox{Cara}$, ó bien $\\ket{1} \\sim \\hbox{Cruz}$. \n",
    "\n",
    "Vamos a comprobar, experimentalmente, que <b>actuar con la puerta $H$</b>  es el <i>análogo cuántico</i> de  <b>tirar la moneda al aire</b>\n",
    "\n",
    "\n"
   ]
  },
  {
   "cell_type": "markdown",
   "metadata": {},
   "source": [
    "Basta con comproba que, **al medir**, la probabilidad de cada resultado 0 ó 1, es igual a $1/2$ al igual que en el caso de una moneda. "
   ]
  },
  {
   "cell_type": "code",
   "execution_count": null,
   "metadata": {},
   "outputs": [],
   "source": [
    "nqubits = 1\n",
    "\n",
    "# creamos el circuito cuántico\n",
    "qc4 = Circuit(nqubits)#\n",
    "\n",
    "# descomenta esta línea si quieres tirar una moneda cuántica desde el estado |1>\n",
    "# qc4.add(gates.X(0))\n",
    "\n",
    "qc4.add(gates.H(0))\n",
    "qc4.add(gates.M(*range(nqubits)))\n",
    "\n",
    "# visualizamos el circuito\n",
    "qsplot_circuit(qc4)\n",
    "\n",
    "\n",
    "# ejecutamos un numero de veces\n",
    "Nejecuciones = 1000\n",
    "cuentas4 = qc4.execute(nshots=Nejecuciones).frequencies()\n",
    "\n",
    "print(\"Medidas= \", cuentas4)"
   ]
  },
  {
   "cell_type": "code",
   "execution_count": null,
   "metadata": {},
   "outputs": [],
   "source": [
    "# graficamos en un histograma\n",
    "plot_histogram(cuentas4)"
   ]
  },
  {
   "cell_type": "markdown",
   "metadata": {},
   "source": [
    "Vamos a estudiar el análogo cuántico de tirar **dos veces seguidas**  observando el resultado **después de cada tirada** "
   ]
  },
  {
   "cell_type": "code",
   "execution_count": null,
   "metadata": {},
   "outputs": [],
   "source": [
    "# Programamos un circuito que efectúe dos tiradas y medidas sucesivas. \n",
    "\n",
    "# creamos el circuito de un cúbit\n",
    "qbits = 1\n",
    "qc5 = Circuit(qbits)\n",
    "\n",
    "qc5.add(gates.H(0))              # tiramos\n",
    "qc5.add(gates.M(*range(qbits)))  #observamos\n",
    "qc5.add(gates.H(0))              # tiramos de nuevo\n",
    "qc5.add(gates.M(*range(qbits)))  #observamos\n",
    "\n",
    "#visualizamos el circuito\n",
    "miplot_circuit(qc5) \n",
    "\n",
    "# ejecutamos un número de veces\n",
    "Nejecucion = 100\n",
    "result5 = qc5.execute(nshots=Nejecucion)\n",
    "\n",
    "medidas5 = result5.frequencies()\n",
    "print(\"Medidas= \", medidas5)\n"
   ]
  },
  {
   "cell_type": "code",
   "execution_count": null,
   "metadata": {},
   "outputs": [],
   "source": [
    "# graficamos en un histograma\n",
    "plot_histogram(medidas5)"
   ]
  },
  {
   "cell_type": "markdown",
   "metadata": {},
   "source": [
    "<div class=\"alert alert-block alert-success\">\n",
    "<b>Ejercicio:</b> \n",
    "\n",
    "Repite el circuito empezando con $\\ket{0}$ o con $\\ket{1}$ y observa el resultado. \n",
    "\n",
    "¿Es el resultado análogo a lo que sucedería con una moneda clásica?\n",
    "</div>"
   ]
  },
  {
   "cell_type": "markdown",
   "metadata": {},
   "source": [
    "¿Qué esperamos que pase con una moneda, si efectuamos **dos tiradas sucesivas**, pero <u>**no miramos entre cada tirada**?</u>"
   ]
  },
  {
   "cell_type": "code",
   "execution_count": null,
   "metadata": {},
   "outputs": [],
   "source": [
    "# Programa un circuito que efectúe dos tiradas sucesivas y una sola medida después de la segunda\n",
    "\n",
    "qbits = 1\n",
    "qc6 = Circuit(qbits)\n",
    "qc6.add(gates.X(0))\n",
    "\n",
    "qc6.add(gates.H(0))\n",
    "qc6.add(gates.H(0))\n",
    "qc6.add(gates.M(*range(qbits)))\n",
    "\n",
    "# visualizamos el circuito\n",
    "qsplot_circuit(qc6) "
   ]
  },
  {
   "cell_type": "code",
   "execution_count": null,
   "metadata": {},
   "outputs": [],
   "source": [
    "# ejecutamos y medimos un número de veces\n",
    "medidas6 = qc6.execute(nshots=Nejecucion).frequencies()\n",
    "print(\"Medidas= \", medidas6)\n",
    "\n",
    "# graficamos en un histograma\n",
    "plot_histogram(medidas6)"
   ]
  },
  {
   "cell_type": "markdown",
   "metadata": {},
   "source": [
    "<div class=\"alert alert-block alert-success\">\n",
    "<b>Ejercicio:</b> \n",
    "\n",
    "Repite el circuito empezando con $\\ket{0}$ ó con $\\ket{1}$ y observa el resultado. \n",
    "\n",
    "</div>"
   ]
  },
  {
   "cell_type": "markdown",
   "metadata": {},
   "source": [
    "<div class=\"alert alert-block alert-danger\">\n",
    "    <b>¡ha desaparecido la posibilidad de hallar un resultado distinto al inicial! </b>\n",
    "<br>    \n",
    "    \n",
    "- Si empezamos en $\\ket{0}$ (cara)  **siempre** obtendremos $0$  (cara) y **nunca** obtendremos $1$ (cruz)\n",
    "    \n",
    "- Si empezamos en $\\ket{1}$ (cruz) **siempre** obtendremos $1$ (cruz) y **nunca** obtendremos $0$ (cara)\n",
    "    \n",
    "Es decir, hay un resultado que tiene **probabilidad nula** de aparecer en la segunda tirada, a pesar de que *no tiene probabilidad nula* en la primera tirada.     \n",
    "    \n",
    "</div>"
   ]
  },
  {
   "cell_type": "markdown",
   "metadata": {},
   "source": [
    "<div class=\"alert alert-block alert-success\">\n",
    "<b>Sugerencias para jugar:</b> analiza qué pasa cuando tiras más de dos veces antes de medir. ¿Ves algún patrón?\n",
    "</div>"
   ]
  },
  {
   "cell_type": "markdown",
   "metadata": {},
   "source": [
    "## Explicación teórica de la moneda cuántica\n",
    "\n",
    "Tirar la moneda dos veces es una concatenación de dos procesos probabilísticos. \n",
    "\n",
    "\n",
    "- **Moneda clásica**\n",
    "\n",
    "Clásicamente, el proceso $T$ de tirar la moneda clásica supone poner los estados $cara$ = 0 y $cruz$ = 1 en un estado equiprobable\n",
    "\n",
    "$$\n",
    " T: 0 \\rightarrow  \\left\\{ (0,\\frac{1}{2}), ( 1,\\frac{1}{2}) \\right\\} ~~~~~~~~,~~~~~~~~ \n",
    " T: 1 \\rightarrow  \\left\\{ (0,\\frac{1}{2}), ( 1,\\frac{1}{2}) \\right\\} \n",
    "$$\n",
    "\n",
    "\n",
    "En este gráfico puedes observar las **probabilidad** de pasar de un estado clásico inicial a otro final por cada camino \n",
    "\n",
    "<figure>\n",
    "<img src=\"./images/Moneda_clasica.png\" align=center width='60%' style='margin:automatic'/>\n",
    "</figure>\n",
    "En rojo se han resaltado los posibles caminos para pasar de un 0 inicial a un 1 final. \n",
    "Hay dos, y cada uno es una concatenación de dos tiradas independientes. \n",
    "\n",
    "La probabilidad de eventos independientes es el producto de las probabilidades,  y la contribución de ambos caminos conduce a \n",
    "\n",
    "$$\n",
    "p(0 \\to 1) ~~=~~ \\frac{1}{2}\\times \\frac{1}{2} ~~+~~ \\frac{1}{2}\\times \\frac{1}{2} ~~=~~ \\frac{1}{4} + \\frac{1}{4} = \\frac{1}{2}\n",
    "$$\n",
    "\n",
    "En todos los procesos, la contribución de un camino es **siempre positiva**. Por tanto no hay ningún proceso \n",
    "$\\{0,1\\}\\to \\{0,1\\}$ que tenga probabilidad final nula. \n",
    "\n",
    "- **Moneda cuántica**\n",
    "\n",
    "El análogo cuántico del proceso de tirar la moneda es aplicar la puerta $H$ (¡ojo! que ahora, las amplitudes llevan signos)\n",
    "\n",
    "$$\n",
    "H : \\ket{0} \\to \\frac{1}{\\sqrt{2}}\\ket{0} + \\frac{1}{\\sqrt{2}}\\ket{1} ~~~~~~, ~~~~~~~\n",
    "H : \\ket{1} \\to \\frac{1}{\\sqrt{2}}\\ket{0} - \\frac{1}{\\sqrt{2}}\\ket{1}\n",
    "$$\n",
    "\n",
    "En el siguiente diagrama puedes obtener la **amplitud de probabilidad** de pasar de un estado cuántico a otro por cada *camino*\n",
    "\n",
    "<figure>\n",
    "<img src=\"./images/Moneda_cuantica.png\" align=center width='65%' style='margin:automatic'/>\n",
    "</figure>\n",
    "\n",
    "Ahora, para evaluar la probabilidad de pasar de $\\ket{0}$ a $\\ket{1}$ primero calculamos la contribución de cada camino a la *amplitud* del estado final\n",
    "\n",
    "\n",
    "$$\n",
    "b(0 \\to 1) = \\frac{1}{\\sqrt{2}}\\times \\frac{1}{\\sqrt{2}} ~+~ \\frac{1}{\\sqrt{2}}\\times \\left(-\\frac{1}{\\sqrt{2}}\\right)  ~~=~~ \\frac{1}{2} - \\frac{1}{2}= 0 \n",
    "$$\n",
    "<br>\n",
    "\n",
    "La probabilidad sería ahora $p(\\ket{0}\\to \\ket{1}) = |b|^2 = 0 $.\n",
    "\n",
    "<div class=\"alert alert-block alert-danger\">\n",
    "Vemos como, ahora, al sumar <b>amplitudes</b>  hay procesos en los que los caminos pueden interferir destructivamente y cancelarse, haciendo nula la probabilidad final del resultado al que conducen. \n",
    "</div>\n",
    "\n"
   ]
  },
  {
   "cell_type": "markdown",
   "metadata": {},
   "source": [
    "<div class=\"alert alert-block alert-success\">\n",
    "\n",
    "Calcula en un papel el resultado de aplicar  $H^2 = H\\cdot H$ al estado $\\ket{0}$ ó $\\ket{1}$ y comprueba que siempre sale el mismo estado con el que empiezas\n",
    "\n",
    "\\begin{align}\n",
    "H^2 \\ket{0} &= H (H\\ket{0}) = H  \\frac{1}{\\sqrt{2}}(\\ket{0} + \\ket{1})  = \n",
    "\\frac{1}{\\sqrt{2}} \\left(  H \\ket{0} + H \\ket{1}  \\right) = ... \\\\\n",
    "H^2 \\ket{1} &= ...\n",
    "\\end{align}\n",
    "\n",
    "</div>"
   ]
  },
  {
   "cell_type": "markdown",
   "metadata": {},
   "source": [
    "# El algoritmo de Bernstein-Vazirani"
   ]
  },
  {
   "cell_type": "markdown",
   "metadata": {},
   "source": [
    "Vamos a ver un ejemplo en el que la computación cuántica saca ventaja de   la **superposición**, el **paralelismo** y la **interferencia**. \n"
   ]
  },
  {
   "cell_type": "markdown",
   "metadata": {},
   "source": [
    "*Planteamiento del problema de Bernstein Vazirani*\n",
    "\n",
    "Sea $n\\in {\\mathbb N}$ un entero natural, y  $a,x$ números enteros positivos $\\in (0, 2^n-1)$.\n",
    "\n",
    "\n",
    "Imaginemos una **colección** de $2^n$ **funciones binarias** etiquetadas por $a$. \n",
    "\n",
    "$$\\fbox{$f_a: x \\to \\{0,1\\}$}$$\n",
    "\n",
    " La función $f_a(x)$ actúa de la siguiente manera \n",
    "\n",
    "$$\n",
    "\\fbox{$f_a(x) = a\\cdot x ~\\equiv~ (a_{n-1} x_{n-1} +a_{n-2} x_{n-2}     ... + a_{1} x_{1}+ a_{0} x_{0})\\, \\hbox{mod}(2) $}\n",
    "$$\n",
    "\n",
    "\n",
    "donde $a = a_{n-1}...a_1a_0$ y  $x = x_{n-1}...x_1x_0$ son las  representaciones binarias de $a$ y $x$ respectivamente"
   ]
  },
  {
   "cell_type": "markdown",
   "metadata": {},
   "source": [
    "<div class=\"alert alert-block alert-warning\">\n",
    "\n",
    "<b>Ejemplo</b>:  supongamos que $n=4$. Entonces, por ejemplo\n",
    "    \n",
    "\\begin{align}\n",
    "f_3(4) &= 3\\cdot 4 =  0011 \\cdot 0100 \\equiv (0*0 + 0*1 + 1*0 + 1* 0)\\,\\hbox{mod}(2) =  0 \\,\\hbox{mod}(2) = 0 \\\\\n",
    "f_7(7) &= 7\\cdot 7 = 0111 \\cdot 0111 \\equiv(0*0 + 1*1 + 1*1 + 1* 1)\\,\\hbox{mod}(2) =  3 \\,\\hbox{mod}(2) = 1 \\\\\n",
    "\\end{align}\n",
    "    \n",
    "</div>"
   ]
  },
  {
   "cell_type": "markdown",
   "metadata": {},
   "source": [
    "Ahora definimos la función $f_a(x)$ que podemos evaluar sobre cualquier argumento $x$. El valor de $a$ está oculto (no es un argumento)"
   ]
  },
  {
   "cell_type": "code",
   "execution_count": null,
   "metadata": {},
   "outputs": [],
   "source": [
    "# Función f_a(x) lineal clásica\n",
    "def f_a(x):\n",
    "    a_bin = format(a, '0' + str(n) + 'b')\n",
    "    x_bin = format(x, '0' + str(n) + 'b')\n",
    "    return sum([(int(a_bin[i])*int(x_bin[i])) for i in range(n)])%2 "
   ]
  },
  {
   "cell_type": "markdown",
   "metadata": {},
   "source": [
    "Vamos a dar valores a $a$ y a $x$ para ver cómo trabaja $f_a(x)$. "
   ]
  },
  {
   "cell_type": "code",
   "execution_count": null,
   "metadata": {},
   "outputs": [],
   "source": [
    "\n",
    "n=4\n",
    "a=7\n",
    "\n",
    "import random \n",
    "x = random.randint(0, 15)\n",
    "x = 1\n",
    "\n",
    "print('x =', x)\n",
    "print('f_a(' + str(x) + ') =', f_a(x))"
   ]
  },
  {
   "cell_type": "markdown",
   "metadata": {},
   "source": [
    "<div class=\"alert alert-block alert-info\">\n",
    "\n",
    "<u><b>Problema de Bernstein-Vazirani</b></u>  \n",
    "<br>       \n",
    "- <u>Promesa:</u> <b>disponemos</b> de una función $f_a$,  para un $a$ \n",
    "particular **desconocido**\n",
    "<br>\n",
    "<br>\n",
    "    \n",
    "    \n",
    "- <u>Problema:</u> queremos <b>adivinar</b> $a$ con el único recurso de evaluar $f_a(x)$ tantas veces como queramos sobre distintos valores de $x$. \n",
    "    \n",
    "    \n",
    "<br>\n",
    "    \n",
    "*Nota: $f_a$ es un *oráculo* al que siempre puedes preguntar todo menos cuál es su identidad*\n",
    "\n",
    "</div>"
   ]
  },
  {
   "cell_type": "markdown",
   "metadata": {},
   "source": [
    "<div class=\"alert alert-block alert-success\">\n",
    "\n",
    "<b>¡A jugar!</b>:  evalua la función \"f_a(x)\" sobre tantos $x\\in (0,2^n-1)$ como necesites para averiguar el valor oculto de $a$.\n",
    "</div>"
   ]
  },
  {
   "cell_type": "markdown",
   "metadata": {},
   "source": [
    "Cuando termines, compara tu resultado con el valor correcto de $a$"
   ]
  },
  {
   "cell_type": "code",
   "execution_count": null,
   "metadata": {},
   "outputs": [],
   "source": [
    "print('a =',a)"
   ]
  },
  {
   "cell_type": "markdown",
   "metadata": {},
   "source": [
    "<div class=\"alert alert-block alert-warning\">\n",
    " El número mínimo de veces que necesitamos consultar $g(x)$ para adivinar $a$ se denomina <em>complejidad de oráculo</em>  ${\\cal C}$. En este problema, deberías haber llegado a las conclusión de que ${\\cal C} = n$, crece linealmente con el número de cúbits.\n",
    "</div>"
   ]
  },
  {
   "cell_type": "markdown",
   "metadata": {},
   "source": [
    "<div class=\"alert alert-block alert-info\">\n",
    "\n",
    "<u><b>Problema de Bernstein-Vazirani</b></u> *(versión  cuántica)*\n",
    "<br>\n",
    "<br>    \n",
    "\n",
    "Sea $\\ket{x}$ un estado de $n$ cúbits, y $\\ket{0}$ un cúbit adicional. \n",
    "<br> \n",
    "<br>    \n",
    "    \n",
    "- <i>Promesa:</i> disponemos de un **circuito** que implementa la acción de $f_a$ sobre cualquier estado $\\ket{x}\\ket{0}$ en la forma siguiente\n",
    "<br>\n",
    "<br>\n",
    "    \n",
    "$$\n",
    "U_a : \\ket{x} \\ket{0}  \\to \\ket{x} \\ket{f_a(x)}\n",
    "$$\n",
    "<br>\n",
    "    \n",
    "- <i>Problema:</i> queremos **adivinar** $a$ con el único recurso de ejecutar  el circuito $U_a$ y medir el estado final *tantas veces como queramos*. Cada ejecución cuenta como una consulta al oráculo. \n",
    "    \n",
    "    \n",
    "\n",
    "</div>"
   ]
  },
  {
   "cell_type": "markdown",
   "metadata": {},
   "source": [
    "Dado un $a$, la siguiente función genera un circuito que implementa $U_a$ "
   ]
  },
  {
   "cell_type": "code",
   "execution_count": null,
   "metadata": {},
   "outputs": [],
   "source": [
    "def U_a():\n",
    "    a_bin = format(a, '0' + str(n) + 'b')\n",
    "    qc = Circuit(n+1)\n",
    "    for qubit in range(n):\n",
    "        if a_bin[qubit] == '1':\n",
    "            qc.add(gates.CNOT(qubit+1,0))      \n",
    "    return gates.Unitary((qc.fuse()).unitary(), *range(n+1), name=\"U_a\")\n"
   ]
  },
  {
   "cell_type": "markdown",
   "metadata": {},
   "source": [
    "Vamos a ver que funciona. Para ello tenemos que inicializar el vector $\\ket{x}$ y aplicarle $U_a: \\ket{x}\\ket{0} \\to \\ket{x}\\ket{f_a(x)}$"
   ]
  },
  {
   "cell_type": "code",
   "execution_count": null,
   "metadata": {},
   "outputs": [],
   "source": [
    "# fijamos un valor de x\n",
    "a = 7\n",
    "x = 7\n",
    "\n",
    "# generamos el circuito \n",
    "qc = Circuit(n+1)\n",
    "\n",
    "# preparamos el estado |x>|0> \n",
    "x_bin = format(x, '0' + str(n) + 'b')\n",
    "for i in range(n):\n",
    "    if x_bin[i] == '1':\n",
    "        qc.add(gates.X(i+1))\n",
    "      \n",
    "# añadimos el oráculo $U_a$\n",
    "qc.add(U_a())\n",
    "\n",
    "# medimos los qúbits\n",
    "qc.add(gates.M(0, register_name='f(x)'))\n",
    "qc.add(gates.M(*range(1,n+1), register_name='x'))\n",
    "\n",
    "#qc.draw()\n",
    "plot_circuit(qc, cluster_gates = True, style=\"quantumspain\")"
   ]
  },
  {
   "cell_type": "code",
   "execution_count": null,
   "metadata": {},
   "outputs": [],
   "source": [
    "# Corremos el circuito 1 vez para ver que efectivamente U_a implementa la función f_a\n",
    "medidas = qc(nshots=1)\n",
    "resultado = medidas.samples(registers=True)\n",
    "x_res = ''.join(str(x) for x in resultado['x'][0]) \n",
    "fx_res = str(resultado['f(x)'][0][0])\n",
    "print('U_a|x>|0> = |x>|f_a(x)> = |' + x_res + '>|' + fx_res + '>')"
   ]
  },
  {
   "cell_type": "markdown",
   "metadata": {},
   "source": [
    "### Cómo adivinar $a$ con <u>una sola consulta</u> al oráculo cuántico"
   ]
  },
  {
   "cell_type": "markdown",
   "metadata": {},
   "source": [
    "El circuito de Bernstein-Vazirani utiliza todos los ingredientes que hemos estudiado\n",
    "\n",
    "1. **Superposición**: aplicando $H^n\\ket{0}_n = \\ket{0} + \\ket{1} + \\ket{2} ... +   \\ket{2^n-1}$ el estado es una superposición de *todos los elementos de la base\n",
    "<br>\n",
    "\n",
    "2. **Paralelismo**: el oráculo $U_a$ se evalúa simultáneamente  sobre <b>todos los elementos</b> de la base computacional y se añade al estado $\\ket{-} = Z H \\ket{0}$\n",
    "<br>\n",
    "\n",
    "3. <b>Interferencia</b>:  aplicando otra vez $H^n$ conseguimos una interferencia destructiva de todos los posibles resultados que no son el correcto, $\\ket{a}$. \n",
    "<br>\n",
    "\n",
    "4. <b>Medida</b> del resultado, $\\ket{a} \\to a$, y conversión a decimal.  "
   ]
  },
  {
   "cell_type": "code",
   "execution_count": null,
   "metadata": {},
   "outputs": [],
   "source": [
    "# generamos el circuito \n",
    "qc = Circuit(n+1)\n",
    "\n",
    "\n",
    "# Superposición de todos los elementos de la base\n",
    "for q in range(0,n+1):\n",
    "    qc.add(gates.H(q))\n",
    "qc.add(gates.Z(0))\n",
    "\n",
    "# Paralelismo:  el oráculo $U_a$ actúa sobre toda la superposición a la vez\n",
    "qc.add(U_a())\n",
    "\n",
    "# Interferencia: aplicamos H^n de nuevo\n",
    "for q in range(1,n+1):\n",
    "    qc.add(gates.H(q))\n",
    "\n",
    "# Medidas\n",
    "qc.add(gates.M(*range(1,n+1), register_name='a'))\n",
    "\n",
    "\n",
    "# mostramos el diagrama del circuito\n",
    "plot_circuit(qc, cluster_gates = True, style=\"quantumspain\")"
   ]
  },
  {
   "cell_type": "markdown",
   "metadata": {},
   "source": [
    "Ejecutamos el circuito **una sola vez** y observamos el resultado"
   ]
  },
  {
   "cell_type": "code",
   "execution_count": null,
   "metadata": {},
   "outputs": [],
   "source": [
    "Nejecuciones = 100\n",
    "\n",
    "cuentas = qc(nshots=Nejecuciones).frequencies(binary=True)\n",
    "print(\"Cuentas= \", cuentas)\n",
    "plot_histogram(cuentas)"
   ]
  },
  {
   "cell_type": "code",
   "execution_count": null,
   "metadata": {},
   "outputs": [],
   "source": [
    "print('el valor de a buscado es, a = ', int(list(cuentas.keys())[0],2))"
   ]
  },
  {
   "cell_type": "markdown",
   "metadata": {},
   "source": [
    "<div class=\"alert alert-block alert-danger\">\n",
    "\n",
    "<u>**Resumen**</u>: \n",
    "\n",
    "hemos visto un ejemplo de *ventaja cuántica* en un problema de *identificación del oráculo*:\n",
    "\n",
    "- **Clásicamente**, la obtención de $a$ requiere la evaluación de $f_a(x)$ sobre $n$ valores distintos de $x$.\n",
    "\n",
    "- **Cuánticamente**, la obtención de $a$ requiere **una** única evaluación del circuito que implementa $U_a$ asociado a $f_a$. \n",
    "\n",
    "</div>"
   ]
  },
  {
   "cell_type": "markdown",
   "metadata": {},
   "source": []
  },
  {
   "cell_type": "markdown",
   "metadata": {},
   "source": [
    "# Ejecución en un ordenador cuántico real"
   ]
  },
  {
   "cell_type": "markdown",
   "metadata": {},
   "source": [
    "Las dos secciones a continuación mandan el circuito de BV a ejecutarse en los dos únicos ordenadores cuánticos que están disponibles en España a día de hoy, *Ona* en el BSC y *Qmio* en el CESGA. \n",
    "\n",
    "Debido a la mala calidad de estos ordenadores, aun muy incipientes, en lugar de una ejecución nos vemos obligados a hacer varias, para ver dónde está el resultado más probable. \n",
    "\n",
    "El punto está en que el numero *Nejecuciones* no crece con el número de cúbits *n*, así que lo fijaremos a 20. "
   ]
  },
  {
   "cell_type": "markdown",
   "metadata": {},
   "source": [
    "## Ejecución en Qmio  (CESGA)"
   ]
  },
  {
   "cell_type": "code",
   "execution_count": null,
   "metadata": {},
   "outputs": [],
   "source": [
    "# !sbatch myjob_qmio.sh\n",
    "\n",
    "# import subprocess\n",
    "# import time\n",
    "# import os\n",
    "# #submit = subprocess.run(['sbatch', 'myjob_qmio.sh'], capture_output=True, text=True)\n",
    "# #print(submit.stdout)\n",
    "# out_file = 'out1.txt'\n",
    "# timeout = 300\n",
    "# poll_interval = 2\n",
    "# elapsed = 0\n",
    "# while not os.path.exists(out_file):\n",
    "#     time.sleep(poll_interval)\n",
    "#     elapsed += poll_interval\n",
    "#     if elapsed > timeout:\n",
    "#         raise TimeoutError(f\"No se encontro {out_file} despues de {timeout} segundos\")\n",
    "# with open(out_file, 'r') as f:\n",
    "#      output_qmio = f.read()\n",
    "# print(\"Contenido de out1.txt:\\n\")\n",
    "# print(output_qmio)"
   ]
  },
  {
   "cell_type": "markdown",
   "metadata": {},
   "source": [
    "Visualizamos el resultado de *Qmio* en un histograma"
   ]
  },
  {
   "cell_type": "code",
   "execution_count": null,
   "metadata": {},
   "outputs": [],
   "source": [
    "# plot_histogram(output_qmio)"
   ]
  },
  {
   "cell_type": "markdown",
   "metadata": {},
   "source": [
    "## Ejecución en Ona (BSC)"
   ]
  },
  {
   "cell_type": "code",
   "execution_count": null,
   "metadata": {},
   "outputs": [],
   "source": [
    "# import paramiko\n",
    "# import time\n",
    "\n",
    "# # Parámetros\n",
    "# host = \"qlogin1.bsc.es\"\n",
    "# username = \"\"\n",
    "# password = \"\"\n",
    "# #remote_script = \"/home/cesg/cesg278411/myjob_BSC.sh\"\n",
    "# #output_file = \"/home/cesg/cesg278411/out_.txt\"\n",
    "\n",
    "\n",
    "# # Crear cliente SSH\n",
    "# client = paramiko.SSHClient()\n",
    "# client.set_missing_host_key_policy(paramiko.AutoAddPolicy())\n",
    "# #client.connect(host, username=username)\n",
    "# client.connect(host, username=username, password=password, allow_agent=False, look_for_keys=False)\n",
    "# # Enviar job SLURM\n",
    "# stdin, stdout, stderr = client.exec_command(f\"sbatch {remote_script}\")\n",
    "# job_submit_output = stdout.read().decode()\n",
    "# print(\"Job enviado:\\n\", job_submit_output)\n",
    "\n",
    "# # Extraer Job ID (si es posible)\n",
    "# import re\n",
    "# match = re.search(r'Submitted batch job (\\d+)', job_submit_output)\n",
    "# job_id = match.group(1) if match else None\n",
    "\n",
    "# # Esperar a que el archivo de salida aparezca\n",
    "# print(\"Esperando a que aparezca el archivo de salida...\")\n",
    "# timeout = 300\n",
    "# interval = 5\n",
    "# elapsed = 0\n",
    "\n",
    "# while elapsed < timeout:\n",
    "#     stdin, stdout, stderr = client.exec_command(f\"test -f {output_file} && echo 'EXISTS'\")\n",
    "#     if stdout.read().decode().strip() == 'EXISTS':\n",
    "#         break\n",
    "#     time.sleep(interval)\n",
    "#     elapsed += interval\n",
    "# else:\n",
    "#     print(\"Tiempo de espera agotado, no se encontró el archivo.\")\n",
    "#     client.close()\n",
    "#     raise TimeoutError(\"No se generó el archivo de salida\")\n",
    "\n",
    "# # Leer el contenido del archivo\n",
    "# stdin, stdout, stderr = client.exec_command(f\"cat {output_file}\")\n",
    "# output_ona = stdout.read().decode()\n",
    "# print(\"\\n Contenido de out_.txt:\\n\")\n",
    "# print(output_ona)\n",
    "\n",
    "# client.close()"
   ]
  },
  {
   "cell_type": "markdown",
   "metadata": {},
   "source": [
    "Visualizamos el resultado de *Ona* en un histograma"
   ]
  },
  {
   "cell_type": "code",
   "execution_count": null,
   "metadata": {},
   "outputs": [],
   "source": [
    "# import re \n",
    "# match = re.search(r\"\\{.*\\}\", output_ona, re.DOTALL)\n",
    "# cuentas = eval(match.group())\n",
    "\n",
    "# plot_histogram(cuentas)   "
   ]
  },
  {
   "cell_type": "markdown",
   "metadata": {},
   "source": []
  }
 ],
 "metadata": {
  "kernelspec": {
   "display_name": "Python 3 (ipykernel)",
   "language": "python",
   "name": "python3"
  },
  "language_info": {
   "codemirror_mode": {
    "name": "ipython",
    "version": 3
   },
   "file_extension": ".py",
   "mimetype": "text/x-python",
   "name": "python",
   "nbconvert_exporter": "python",
   "pygments_lexer": "ipython3",
   "version": "3.10.0"
  },
  "nbTranslate": {
   "displayLangs": [
    "*"
   ],
   "hotkey": "alt-t",
   "langInMainMenu": true,
   "sourceLang": "en",
   "targetLang": "fr",
   "useGoogleTranslate": true
  },
  "toc": {
   "base_numbering": 1,
   "nav_menu": {},
   "number_sections": true,
   "sideBar": true,
   "skip_h1_title": false,
   "title_cell": "Table of Contents",
   "title_sidebar": "Contents",
   "toc_cell": false,
   "toc_position": {},
   "toc_section_display": true,
   "toc_window_display": false
  },
  "varInspector": {
   "cols": {
    "lenName": 16,
    "lenType": 16,
    "lenVar": 40
   },
   "kernels_config": {
    "python": {
     "delete_cmd_postfix": "",
     "delete_cmd_prefix": "del ",
     "library": "var_list.py",
     "varRefreshCmd": "print(var_dic_list())"
    },
    "r": {
     "delete_cmd_postfix": ") ",
     "delete_cmd_prefix": "rm(",
     "library": "var_list.r",
     "varRefreshCmd": "cat(var_dic_list()) "
    }
   },
   "types_to_exclude": [
    "module",
    "function",
    "builtin_function_or_method",
    "instance",
    "_Feature"
   ],
   "window_display": false
  }
 },
 "nbformat": 4,
 "nbformat_minor": 4
}
